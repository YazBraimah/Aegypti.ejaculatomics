{
 "cells": [
  {
   "cell_type": "markdown",
   "metadata": {},
   "source": [
    "## Auxiliary Shell processing of intermediate files:"
   ]
  },
  {
   "cell_type": "markdown",
   "metadata": {},
   "source": [
    "Make sure we're in the L5.data directory:"
   ]
  },
  {
   "cell_type": "code",
   "execution_count": 1,
   "metadata": {
    "collapsed": true
   },
   "outputs": [],
   "source": [
    "cd /Users/yazahmed/Dropbox/Aedes-aegypti_files/Ethan/VB.data"
   ]
  },
  {
   "cell_type": "markdown",
   "metadata": {},
   "source": [
    "Go the annotations folder first:"
   ]
  },
  {
   "cell_type": "code",
   "execution_count": 2,
   "metadata": {
    "collapsed": false
   },
   "outputs": [],
   "source": [
    "cd annotation"
   ]
  },
  {
   "cell_type": "markdown",
   "metadata": {
    "collapsed": true
   },
   "source": [
    "Setup the \"`Protein_annotation.txt`\" file"
   ]
  },
  {
   "cell_type": "code",
   "execution_count": null,
   "metadata": {
    "collapsed": true
   },
   "outputs": [],
   "source": [
    "# grep \"Genbank:XP_\" AaegL5.gff3 | awk -F'\\t' '{print $9}' | sed 's/.*Parent=//g' | sed 's/;.*//g' > transcript_id\n",
    "# grep \"Genbank:XP_\" AaegL5.gff3 | awk -F'\\t' '{print $9}' | sed 's/.*gene=//g' | sed 's/;.*//g' > gene_name\n",
    "# grep \"Genbank:XP_\" AaegL5.gff3 | awk -F'\\t' '{print $9}' | sed 's/.*;Name=//g' | sed 's/;.*//g' > protein_id\n",
    "# grep \"Genbank:XP_\" AaegL5.gff3 | awk -F'\\t' '{print $9}' | sed 's/.*;product=//g' | sed 's/;.*//g' > description\n",
    "\n",
    "# echo -e \"transcript_id\\tprotein_name\\tgene_name\\tdescription\" > tmp.ProteinName.header.txt\n",
    "\n",
    "# paste -d\"\\t\" transcript_id protein_id gene_name description | sort -u | cat tmp.ProteinName.header.txt - > Protein_annotation.txt\n",
    "\n",
    "# rm transcript_id gene_name protein_id description tmp.ProteinName.header.txt"
   ]
  },
  {
   "cell_type": "markdown",
   "metadata": {},
   "source": [
    "Set up the \"`features.txt`\" file:"
   ]
  },
  {
   "cell_type": "code",
   "execution_count": 4,
   "metadata": {
    "collapsed": true
   },
   "outputs": [],
   "source": [
    "echo -e \"contig\\tmin\\tmax\\tgene_id\\ttranscript_id\\tref_gene_id\" > tmp.features.header.txt\n",
    "\n",
    "awk '{ if ($3 == \"transcript\") print $0}' stringtie_merged.gtf | awk '{print $1\"\\t\"$4\"\\t\"$5\"\\t\"$10\"\\t\"$12\"\\t\"$14}' | sed 's/\"//g' | sed 's/;//g' | gsed '/MSTRG.*MSTRG/ s/$/NA/g' | cat tmp.features.header.txt - > features.txt\n",
    "\n",
    "rm tmp.features.header.txt"
   ]
  },
  {
   "cell_type": "markdown",
   "metadata": {},
   "source": [
    "To extract gene lengths, first we make gff file:"
   ]
  },
  {
   "cell_type": "code",
   "execution_count": 4,
   "metadata": {
    "collapsed": false
   },
   "outputs": [],
   "source": [
    "gtf2gff3.py stringtie_merged.gtf > stringtie_merged.gff3"
   ]
  },
  {
   "cell_type": "markdown",
   "metadata": {},
   "source": [
    "Now we output the transcript lengths and exon numbers"
   ]
  },
  {
   "cell_type": "code",
   "execution_count": 5,
   "metadata": {
    "collapsed": true
   },
   "outputs": [],
   "source": [
    "python3 ~/ybin/transcript_length_from_gff.py stringtie_merged.gff3 > tmp.transcript_lengths.txt\n",
    "echo -e \"transcript_id length exon_number\" > tmp.tLength.header.txt\n",
    "cat tmp.tLength.header.txt tmp.transcript_lengths.txt > transcript_lengths.txt\n",
    "rm tmp.tLength.header.txt tmp.transcript_lengths.txt"
   ]
  },
  {
   "cell_type": "markdown",
   "metadata": {},
   "source": []
  },
  {
   "cell_type": "code",
   "execution_count": null,
   "metadata": {
    "collapsed": true
   },
   "outputs": [],
   "source": [
    "awk 'BEGIN{FS=OFS=\"\\t\"}{if ($6 > 1) print $1}' proteomes/full_Xtandem.txt | grep -f /dev/stdin/ ../annotation/Protein_annotation.txt > sperm_protein_annotation.txt\n",
    "\n",
    "awk 'BEGIN{FS=OFS=\"\\t\"}{if ($11 > 1) print $1}' full_Xtandem.txt | grep -f /dev/stdin/ ../annotation/Protein_annotation.txt > semen_protein_annotation.txt\n"
   ]
  }
 ],
 "metadata": {
  "kernelspec": {
   "display_name": "Bash",
   "language": "bash",
   "name": "bash"
  },
  "language_info": {
   "codemirror_mode": "shell",
   "file_extension": ".sh",
   "mimetype": "text/x-sh",
   "name": "bash"
  }
 },
 "nbformat": 4,
 "nbformat_minor": 0
}
